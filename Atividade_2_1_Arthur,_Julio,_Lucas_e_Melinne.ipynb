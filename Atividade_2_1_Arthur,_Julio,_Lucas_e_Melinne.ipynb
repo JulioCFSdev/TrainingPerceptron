{
  "cells": [
    {
      "cell_type": "markdown",
      "metadata": {
        "id": "leKZ-ZPnLShe"
      },
      "source": [
        "# Atividade 2.1 - Redes Neurais Artificiais\n",
        "\n",
        "### **Membros da Equipe**:\n",
        "1. Arthur Uguen Mendonça (2115310028)\n",
        "2. Julio Cesar Ferreira De Souza (2115310015)\n",
        "3. Lucas Cruz Araújo (2115310019)\n",
        "4. Melinne Diniz de Oliveira (2115310021)"
      ]
    },
    {
      "cell_type": "markdown",
      "metadata": {
        "id": "1LYowod3LuFg"
      },
      "source": [
        "## Parte I – Resolvendo um Problema Linearmente Separável\n",
        "\n",
        "Consideraremos o arquivo dataAll.txt"
      ]
    },
    {
      "cell_type": "code",
      "execution_count": 1,
      "metadata": {
        "id": "H-mPgMVy7PcL"
      },
      "outputs": [],
      "source": [
        "from matplotlib.colors import ListedColormap\n",
        "import matplotlib.pyplot as plt\n",
        "import numpy as np\n",
        "import pandas as pd\n",
        "from sklearn import linear_model, preprocessing, metrics\n",
        "from google.colab import files"
      ]
    },
    {
      "cell_type": "markdown",
      "metadata": {
        "id": "z0mzyUzBQFEs"
      },
      "source": [
        "\\begin{array}{cl}\n",
        "1, & se \\ u \\geq \\vartheta \\\\\n",
        "0, & se \\ x < \\vartheta \n",
        "\\end{array}"
      ]
    },
    {
      "cell_type": "code",
      "execution_count": 2,
      "metadata": {
        "id": "2Omm-MYtQC-6"
      },
      "outputs": [],
      "source": [
        "class Perceptron:\n",
        "\n",
        "    def __init__(self, name, instances, bias, learning_rate, weight_interval):\n",
        "        self.bias = bias\n",
        "        self.name = name\n",
        "        self.show_info = True\n",
        "        self.learning_rate = learning_rate\n",
        "        self.weight_interval = weight_interval\n",
        "        self.epochs = np.array([])\n",
        "        self.instances = instances\n",
        "        with open(self.name, 'rb') as f:\n",
        "            b = f.read()\n",
        "        self.input = np.ndarray(shape=(self.instances, 1, 3),\n",
        "                                dtype=float, buffer=np.array(b))\n",
        "        self.input = self.add_bias(self.input, self.bias, self.instances)\n",
        "        self.weights = None\n",
        "        self.adjust = []\n",
        "\n",
        "        \n",
        "\n",
        "    # 'dataAll.txt'\n",
        "\n",
        "    def init_input(self):\n",
        "       pass\n",
        "    def activation_func(self, x):\n",
        "        if (x < 0):\n",
        "            return 0\n",
        "        return 1\n",
        "\n",
        "    def apply_weights(self, current_weight, input_vector) -> float:\n",
        "        sum = 0\n",
        "        for i in range(0, len(input_vector)):\n",
        "            sum += current_weight[i] * input_vector[i]\n",
        "\n",
        "        sum = float(f\"{sum:.4f}\")\n",
        "\n",
        "        return sum\n",
        "\n",
        "    def update_weights(self, current_weight, learning_rate, error, input):\n",
        "\n",
        "        new_weight = np.sum(\n",
        "            [current_weight, (learning_rate * error * input)], axis=0)\n",
        "\n",
        "        if np.array_equal(new_weight, current_weight):\n",
        "            change = False\n",
        "        else:\n",
        "            change = True\n",
        "\n",
        "        return new_weight, change\n",
        "\n",
        "    def add_bias(self, input, bias, size):\n",
        "        array = np.array([])\n",
        "        for i in range(len(self.input)):\n",
        "            array = np.append(array, self.bias)\n",
        "            array = np.append(array, self.input[i])\n",
        "        array = array.reshape((size, 1, 4))\n",
        "        return array\n",
        "\n",
        "    def train_perceptron(self):\n",
        "\n",
        "        # Lista com os diferentes pesos ao longo da execução\n",
        "        weights_list = np.array([])\n",
        "        weights = np.random.uniform(self.weight_interval[0], self.weight_interval[1], 3)\n",
        "        #weights = np.random.uniform(-0.5, 0.5, 3)  # Pesos iniciais aleatórios\n",
        "        weights_list = np.append(weights_list, weights)\n",
        "        print(weights)\n",
        "\n",
        "        is_convergent = False  # Condição de para se não ouver mudança de pesos ao longo da época\n",
        "        epochs = 0\n",
        "\n",
        "        c = 0\n",
        "        while not (is_convergent):\n",
        "\n",
        "            change_weight = False\n",
        "            change = False  # a princípio, não houve mudança de pesos\n",
        "\n",
        "            # Executa uma época (aplicar para todas as instâncias do conjunto de treino)\n",
        "            # incrementa o numero de épocas\n",
        "            epochs = epochs + 1\n",
        "            for i in self.input:\n",
        "                # Entradas incluindo o viés\n",
        "                input_vector = np.array([i[0][0], i[0][1], i[0][2]])\n",
        "                real = i[0][3]  # ground truth\n",
        "\n",
        "                # Aplica os pesos às entradas\n",
        "                sum = self.apply_weights(weights, input_vector)\n",
        "                estimated = self.activation_func(sum)  # valor estimado\n",
        "\n",
        "                error = real - estimated\n",
        "\n",
        "                # Função de atualização de pesos:\n",
        "                #   - Retorna os novos pesos (pode ser que não mude)\n",
        "                #   - Retorna True se houve mudança\n",
        "                weights, change_weight = self.update_weights(\n",
        "                    weights, self.learning_rate, error, input_vector)\n",
        "\n",
        "                if (change_weight):  # se houve mudança de pesos\n",
        "                    # adiciona 1 na quantidade de ajusres\n",
        "                    # Salva os novos pesos\n",
        "                    weights_list = np.append(weights_list, weights)\n",
        "                    change = True\n",
        "\n",
        "            # Se não houve mundança de pesos na época, finaliza o looping\n",
        "            if not (change):\n",
        "                is_convergent = True\n",
        "        if self.show_info:\n",
        "          print(f\"Weight adjustment: {len(weights_list) - 1}\")\n",
        "          self.adjust.append(len(weights_list) - 1)\n",
        "          print(f\"Total Epochs: {epochs}\")\n",
        "\n",
        "        self.epochs = np.append(self.epochs, epochs)\n",
        "        self.weights = weights\n",
        "        return weights\n",
        "\n",
        "    def plot_results(self):\n",
        "        # Pesos ideais encontrados após o treino\n",
        "        w0 = self.weights[0]\n",
        "        w1 = self.weights[1]\n",
        "        w2 = self.weights[2]\n",
        "        x_training1 = self.input[:, 0, 1]\n",
        "        x_training2 = self.input[:, 0, 2]\n",
        "        y_training = self.input[:, 0, 3]\n",
        "\n",
        "        # Coeficiente linear e angular da reta linearmente separável\n",
        "        linear_coefficient = w0/w2\n",
        "        angular_coefficient = w1/w2\n",
        "\n",
        "        x_line = np.linspace(-1000,1000,800)\n",
        "        y_line = linear_coefficient-angular_coefficient*x_line\n",
        "\n",
        "        color = ['red' if value == 1 else 'blue' for value in y_training]\n",
        "\n",
        "        plt.scatter(x_training1, x_training2, marker='o', color=color)\n",
        "        plt.plot(x_line, y_line, \"-\", color='black')\n",
        "        plt.xlabel('X1 input feature')\n",
        "        plt.ylabel('X2 input feature')\n",
        "        plt.title('Perceptron regression for x1, x2')\n",
        "        plt.show()"
      ]
    },
    {
      "cell_type": "code",
      "execution_count": 4,
      "metadata": {
        "colab": {
          "base_uri": "https://localhost:8080/"
        },
        "id": "vQazge2vXook",
        "outputId": "57740c97-c7e7-472a-c1b4-1b07b3a86d93"
      },
      "outputs": [
        {
          "output_type": "stream",
          "name": "stdout",
          "text": [
            "[-0.26990273  0.03718089  0.1941602 ]\n",
            "Weight adjustment: 230\n",
            "Total Epochs: 5\n"
          ]
        }
      ],
      "source": [
        "perceptron = Perceptron(name='dataAll.txt', instances=800, bias=-1, learning_rate=0.1, weight_interval=[-0.5, 0.5])\n",
        "\n",
        "weights = perceptron.train_perceptron()"
      ]
    },
    {
      "cell_type": "markdown",
      "metadata": {
        "id": "q7GUq5eq4J_t"
      },
      "source": [
        "### Gráfico de com exemplos do conjunto de dados e reta que os separa "
      ]
    },
    {
      "cell_type": "code",
      "execution_count": 5,
      "metadata": {
        "colab": {
          "base_uri": "https://localhost:8080/",
          "height": 295
        },
        "id": "uETAM8cHNnrB",
        "outputId": "902bb10e-1423-46b3-830e-90d61492dc33"
      },
      "outputs": [
        {
          "output_type": "display_data",
          "data": {
            "text/plain": [
              "<Figure size 432x288 with 1 Axes>"
            ],
            "image/png": "[encoded data removed]"
          },
          "metadata": {
            "needs_background": "light"
          }
        }
      ],
      "source": [
        "perceptron.plot_results()"
      ]
    },
    {
      "cell_type": "markdown",
      "metadata": {
        "id": "ps-Gr440OQJ-"
      },
      "source": [
        "## Parte II – Experimentação\n"
      ]
    },
    {
      "cell_type": "markdown",
      "metadata": {
        "id": "7lFOW68cMxmi"
      },
      "source": [
        "**Identificando o exemplo a ser utilizado:**\n",
        "\n",
        "Somando os últimos dígitos da cada matrícula obtivemos o resultado\n",
        "\n",
        "8 + 5 + 9 + 1 = 23\n",
        "\n",
        "E o resto da divisão de 23 por 4 é igual a 3.\n",
        "\n",
        "Resultando no _**Exemplo 3 (data3.txt)**_  o qual será utilizado nesta parte da atividade.\n"
      ]
    },
    {
      "cell_type": "code",
      "execution_count": 7,
      "metadata": {
        "id": "9BpgQe2TRJ6v"
      },
      "outputs": [],
      "source": [
        "from prettytable import PrettyTable\n",
        "import statistics"
      ]
    },
    {
      "cell_type": "markdown",
      "source": [
        "Separando as 6 configurações:"
      ],
      "metadata": {
        "id": "0Xk4RxpNJ2Vd"
      }
    },
    {
      "cell_type": "code",
      "source": [
        "n = [0.4, 0.1, 0.001]\n",
        "weights = [(-100, 100), (-0.5, 0.5)]\n",
        "means = []\n",
        "standard_deviations = []\n",
        "min_epoch = []\n",
        "\n",
        "combination = list()\n",
        "for rate in n:\n",
        "  for w in weights:\n",
        "    combination.append([rate, w])"
      ],
      "metadata": {
        "id": "mvLblJnyJ1Of"
      },
      "execution_count": null,
      "outputs": []
    },
    {
      "cell_type": "code",
      "execution_count": 8,
      "metadata": {
        "colab": {
          "base_uri": "https://localhost:8080/"
        },
        "id": "4cba9lYFQhlb",
        "outputId": "38c543c5-ff19-4f8c-e09f-b800e29da371"
      },
      "outputs": [
        {
          "output_type": "stream",
          "name": "stdout",
          "text": [
            "============= 1. CONFIGURAÇÃO: [0.4, (-100, 100)] ===============\n",
            "--------REPETIÇÃO 1---------\n",
            "[-93.26668227  38.70022826  31.52602641]\n",
            "Weight adjustment: 776\n",
            "Total Epochs: 6\n",
            "--------REPETIÇÃO 2---------\n",
            "[-19.66892354 -92.01274914 -22.87978957]\n",
            "Weight adjustment: 1559\n",
            "Total Epochs: 8\n",
            "--------REPETIÇÃO 3---------\n",
            "[-80.61077662  20.42141841  25.49622716]\n",
            "Weight adjustment: 653\n",
            "Total Epochs: 4\n",
            "--------REPETIÇÃO 4---------\n",
            "[-26.13024235 -10.67821102 -35.81954265]\n",
            "Weight adjustment: 758\n",
            "Total Epochs: 10\n",
            "--------REPETIÇÃO 5---------\n",
            "[-69.98840883  65.65017896  42.2282677 ]\n",
            "Weight adjustment: 731\n",
            "Total Epochs: 11\n",
            "--------REPETIÇÃO 6---------\n",
            "[-74.09486159  94.27518747  48.31028636]\n",
            "Weight adjustment: 803\n",
            "Total Epochs: 16\n",
            "--------REPETIÇÃO 7---------\n",
            "[56.15227919 21.88801181 78.32846371]\n",
            "Weight adjustment: 749\n",
            "Total Epochs: 16\n",
            "--------REPETIÇÃO 8---------\n",
            "[-83.52817551  17.21338768 -98.58430816]\n",
            "Weight adjustment: 1691\n",
            "Total Epochs: 24\n",
            "--------REPETIÇÃO 9---------\n",
            "[-45.30813743  13.51917419  80.35855205]\n",
            "Weight adjustment: 1076\n",
            "Total Epochs: 11\n",
            "--------REPETIÇÃO 10---------\n",
            "[ -6.22525048   1.38686643 -59.8180355 ]\n",
            "Weight adjustment: 818\n",
            "Total Epochs: 16\n",
            "============= 2. CONFIGURAÇÃO: [0.4, (-0.5, 0.5)] ===============\n",
            "--------REPETIÇÃO 1---------\n",
            "[-0.074761    0.32502942  0.11896148]\n",
            "Weight adjustment: 17\n",
            "Total Epochs: 3\n",
            "--------REPETIÇÃO 2---------\n",
            "[-0.45739605  0.15733641 -0.24971043]\n",
            "Weight adjustment: 47\n",
            "Total Epochs: 7\n",
            "--------REPETIÇÃO 3---------\n",
            "[0.28852175 0.30399193 0.22122188]\n",
            "Weight adjustment: 23\n",
            "Total Epochs: 4\n",
            "--------REPETIÇÃO 4---------\n",
            "[-0.08281013  0.18618493  0.20976901]\n",
            "Weight adjustment: 23\n",
            "Total Epochs: 3\n",
            "--------REPETIÇÃO 5---------\n",
            "[ 0.06351136 -0.19820135  0.20912324]\n",
            "Weight adjustment: 17\n",
            "Total Epochs: 4\n",
            "--------REPETIÇÃO 6---------\n",
            "[-0.32693123 -0.30822276 -0.14299932]\n",
            "Weight adjustment: 53\n",
            "Total Epochs: 7\n",
            "--------REPETIÇÃO 7---------\n",
            "[-0.01368594  0.04086854 -0.15767293]\n",
            "Weight adjustment: 17\n",
            "Total Epochs: 4\n",
            "--------REPETIÇÃO 8---------\n",
            "[ 0.30269209  0.31982725 -0.35331763]\n",
            "Weight adjustment: 23\n",
            "Total Epochs: 5\n",
            "--------REPETIÇÃO 9---------\n",
            "[ 0.17680701 -0.30397918  0.17454217]\n",
            "Weight adjustment: 23\n",
            "Total Epochs: 4\n",
            "--------REPETIÇÃO 10---------\n",
            "[-0.19890945 -0.18411963 -0.13267036]\n",
            "Weight adjustment: 17\n",
            "Total Epochs: 4\n",
            "============= 3. CONFIGURAÇÃO: [0.1, (-100, 100)] ===============\n",
            "--------REPETIÇÃO 1---------\n",
            "[-60.74204882  90.92847681 -47.20980638]\n",
            "Weight adjustment: 3140\n",
            "Total Epochs: 104\n",
            "--------REPETIÇÃO 2---------\n",
            "[ -8.58105022 -52.35307104  80.54715637]\n",
            "Weight adjustment: 4700\n",
            "Total Epochs: 19\n",
            "--------REPETIÇÃO 3---------\n",
            "[-26.10902813 -52.35692183  78.33588925]\n",
            "Weight adjustment: 5051\n",
            "Total Epochs: 17\n",
            "--------REPETIÇÃO 4---------\n",
            "[-33.54166982 -88.45481361 -54.09879828]\n",
            "Weight adjustment: 7064\n",
            "Total Epochs: 23\n",
            "--------REPETIÇÃO 5---------\n",
            "[ 98.19582779  42.0167315  -31.63955517]\n",
            "Weight adjustment: 1394\n",
            "Total Epochs: 29\n",
            "--------REPETIÇÃO 6---------\n",
            "[ 37.47128053   1.80095839 -77.34825849]\n",
            "Weight adjustment: 3239\n",
            "Total Epochs: 75\n",
            "--------REPETIÇÃO 7---------\n",
            "[-28.98702222  41.11526976 -87.73040965]\n",
            "Weight adjustment: 4358\n",
            "Total Epochs: 99\n",
            "--------REPETIÇÃO 8---------\n",
            "[ 86.8813284  -16.58923773  83.66643119]\n",
            "Weight adjustment: 4283\n",
            "Total Epochs: 63\n",
            "--------REPETIÇÃO 9---------\n",
            "[ 41.05479972 -84.744447    21.5688799 ]\n",
            "Weight adjustment: 3962\n",
            "Total Epochs: 11\n",
            "--------REPETIÇÃO 10---------\n",
            "[  9.50727731 -72.48077226 -21.93760298]\n",
            "Weight adjustment: 4175\n",
            "Total Epochs: 12\n",
            "============= 4. CONFIGURAÇÃO: [0.1, (-0.5, 0.5)] ===============\n",
            "--------REPETIÇÃO 1---------\n",
            "[-0.01100329  0.31348134 -0.1100507 ]\n",
            "Weight adjustment: 5\n",
            "Total Epochs: 2\n",
            "--------REPETIÇÃO 2---------\n",
            "[ 0.00467964  0.1072626  -0.25014917]\n",
            "Weight adjustment: 32\n",
            "Total Epochs: 5\n",
            "--------REPETIÇÃO 3---------\n",
            "[ 0.46929855  0.47857075 -0.29884435]\n",
            "Weight adjustment: 14\n",
            "Total Epochs: 3\n",
            "--------REPETIÇÃO 4---------\n",
            "[ 0.29174461 -0.23301766 -0.04277763]\n",
            "Weight adjustment: 20\n",
            "Total Epochs: 4\n",
            "--------REPETIÇÃO 5---------\n",
            "[-0.29676406  0.2436186  -0.3031479 ]\n",
            "Weight adjustment: 29\n",
            "Total Epochs: 4\n",
            "--------REPETIÇÃO 6---------\n",
            "[-0.25679908 -0.49638408 -0.24533572]\n",
            "Weight adjustment: 74\n",
            "Total Epochs: 7\n",
            "--------REPETIÇÃO 7---------\n",
            "[-0.26285636 -0.04393719 -0.06465186]\n",
            "Weight adjustment: 32\n",
            "Total Epochs: 5\n",
            "--------REPETIÇÃO 8---------\n",
            "[-0.06755279  0.24169059  0.32324571]\n",
            "Weight adjustment: 17\n",
            "Total Epochs: 2\n",
            "--------REPETIÇÃO 9---------\n",
            "[-0.36190665 -0.28876093  0.37362564]\n",
            "Weight adjustment: 47\n",
            "Total Epochs: 3\n",
            "--------REPETIÇÃO 10---------\n",
            "[0.24435111 0.19890959 0.43085576]\n",
            "Weight adjustment: 26\n",
            "Total Epochs: 4\n",
            "============= 5. CONFIGURAÇÃO: [0.001, (-100, 100)] ===============\n",
            "--------REPETIÇÃO 1---------\n",
            "[ 71.12144081 -84.21757021   8.01590562]\n",
            "Weight adjustment: 348008\n",
            "Total Epochs: 997\n",
            "--------REPETIÇÃO 2---------\n",
            "[29.83314829  4.02976094 85.52483637]\n",
            "Weight adjustment: 341516\n",
            "Total Epochs: 4702\n",
            "--------REPETIÇÃO 3---------\n",
            "[-84.15170162  81.23955605  32.19133548]\n",
            "Weight adjustment: 313091\n",
            "Total Epochs: 4092\n",
            "--------REPETIÇÃO 4---------\n",
            "[-76.24413702  16.52168421 -12.69820203]\n",
            "Weight adjustment: 364208\n",
            "Total Epochs: 4134\n",
            "--------REPETIÇÃO 5---------\n",
            "[-97.8996226  -28.70114487 -84.09702521]\n",
            "Weight adjustment: 755903\n",
            "Total Epochs: 5737\n",
            "--------REPETIÇÃO 6---------\n",
            "[ 36.71646269 -27.14239648  40.50798793]\n",
            "Weight adjustment: 264482\n",
            "Total Epochs: 2306\n",
            "--------REPETIÇÃO 7---------\n",
            "[-73.46081637 -92.85444881 -91.2384185 ]\n",
            "Weight adjustment: 936470\n",
            "Total Epochs: 4107\n",
            "--------REPETIÇÃO 8---------\n",
            "[-9.22251134 10.37001009  2.410552  ]\n",
            "Weight adjustment: 35309\n",
            "Total Epochs: 455\n",
            "--------REPETIÇÃO 9---------\n",
            "[ 76.07898926 -15.09895237  41.65401326]\n",
            "Weight adjustment: 275804\n",
            "Total Epochs: 4310\n",
            "--------REPETIÇÃO 10---------\n",
            "[-25.412813    -6.76809379  59.50759509]\n",
            "Weight adjustment: 277358\n",
            "Total Epochs: 1833\n",
            "============= 6. CONFIGURAÇÃO: [0.001, (-0.5, 0.5)] ===============\n",
            "--------REPETIÇÃO 1---------\n",
            "[0.45570244 0.05949286 0.3431472 ]\n",
            "Weight adjustment: 1571\n",
            "Total Epochs: 35\n",
            "--------REPETIÇÃO 2---------\n",
            "[ 0.00410073 -0.16352757  0.35237419]\n",
            "Weight adjustment: 1853\n",
            "Total Epochs: 13\n",
            "--------REPETIÇÃO 3---------\n",
            "[ 0.48600035  0.20593162 -0.18052182]\n",
            "Weight adjustment: 737\n",
            "Total Epochs: 16\n",
            "--------REPETIÇÃO 4---------\n",
            "[ 0.25809142 -0.36215958 -0.32027841]\n",
            "Weight adjustment: 2504\n",
            "Total Epochs: 24\n",
            "--------REPETIÇÃO 5---------\n",
            "[ 0.49397077 -0.0602483   0.45007933]\n",
            "Weight adjustment: 2249\n",
            "Total Epochs: 35\n",
            "--------REPETIÇÃO 6---------\n",
            "[0.19411841 0.3898349  0.42073574]\n",
            "Weight adjustment: 950\n",
            "Total Epochs: 38\n",
            "--------REPETIÇÃO 7---------\n",
            "[-0.30809953 -0.15994048 -0.36584332]\n",
            "Weight adjustment: 3074\n",
            "Total Epochs: 25\n",
            "--------REPETIÇÃO 8---------\n",
            "[ 0.20689169 -0.49747798  0.22869436]\n",
            "Weight adjustment: 2603\n",
            "Total Epochs: 9\n",
            "--------REPETIÇÃO 9---------\n",
            "[ 0.49016665 -0.20828383  0.44130181]\n",
            "Weight adjustment: 2564\n",
            "Total Epochs: 31\n",
            "--------REPETIÇÃO 10---------\n",
            "[-0.40245071  0.16251711 -0.22685111]\n",
            "Weight adjustment: 2183\n",
            "Total Epochs: 35\n"
          ]
        }
      ],
      "source": [
        "perceptron = Perceptron('data3.txt', instances=500, bias=-1, learning_rate=0.1, weight_interval=[-0.5, 0.5])\n",
        "\n",
        "for config in range(len(combination)):\n",
        "  # Cada configuração é atribuida aos parametros correspondentes na classe Perceptron\n",
        "  print(f\"============= {config + 1}. CONFIGURAÇÃO: {combination[config]} ===============\")\n",
        "  perceptron.learning_rate = combination[config][0]\n",
        "  perceptron.weight_interval = combination[config][1]\n",
        "  for i in range(0, 10):\n",
        "    print(f'--------REPETIÇÃO {i+1}---------')\n",
        "    perceptron.train_perceptron()\n",
        "  means.append(statistics.mean(perceptron.adjust))\n",
        "  standard_deviations.append(statistics.stdev(perceptron.adjust))\n",
        "  min_epoch.append(np.amin(perceptron.epochs))\n",
        "  perceptron.epochs = np.empty([]) #limpa a lista de épocas\n",
        "  perceptron.adjust = [] # limpa a lista de ajustes"
      ]
    },
    {
      "cell_type": "code",
      "execution_count": 10,
      "metadata": {
        "colab": {
          "base_uri": "https://localhost:8080/"
        },
        "id": "ECnNT-ih9Ska",
        "outputId": "3a9a1178-8967-419c-a849-f9e71d55407c"
      },
      "outputs": [
        {
          "output_type": "stream",
          "name": "stdout",
          "text": [
            "+---------------------+--------------------+-------------------------+----------------------------------------+\n",
            "| Taxa de Aprendizado | Intervalo de Pesos |  Quantidade de Ajustes  | Menor número de épocas p/ convergência |\n",
            "+---------------------+--------------------+-------------------------+----------------------------------------+\n",
            "|         0.4         |    (-100, 100)     |    961.40 +/- 367.77    |                  4.0                   |\n",
            "|         0.4         |    (-0.5, 0.5)     |     26.00 +/- 13.04     |                  3.0                   |\n",
            "|         0.1         |    (-100, 100)     |   4136.60 +/- 1458.55   |                  3.0                   |\n",
            "|         0.1         |    (-0.5, 0.5)     |     29.60 +/- 19.43     |                  2.0                   |\n",
            "|        0.001        |    (-100, 100)     | 391214.90 +/- 260444.79 |                  2.0                   |\n",
            "|        0.001        |    (-0.5, 0.5)     |    2028.80 +/- 751.27   |                  2.0                   |\n",
            "+---------------------+--------------------+-------------------------+----------------------------------------+\n"
          ]
        }
      ],
      "source": [
        "table = PrettyTable()\n",
        "\n",
        "qtde_ajustes = [means, standard_deviations]\n",
        "\n",
        "table.field_names = [\"Taxa de Aprendizado\", \"Intervalo de Pesos\", \"Quantidade de Ajustes\", \"Menor número de épocas p/ convergência\"]\n",
        "\n",
        "table.add_row([n[0], weights[0], f\"{means[0]:.2f} +/- {standard_deviations[0]:.2f}\", min_epoch[0]])\n",
        "table.add_row([n[0], weights[1], f\"{means[1]:.2f} +/- {standard_deviations[1]:.2f}\", min_epoch[1]])\n",
        "table.add_row([n[1], weights[0], f\"{means[2]:.2f} +/- {standard_deviations[2]:.2f}\", min_epoch[2]])\n",
        "table.add_row([n[1], weights[1], f\"{means[3]:.2f} +/- {standard_deviations[3]:.2f}\", min_epoch[3]])\n",
        "table.add_row([n[2], weights[0], f\"{means[4]:.2f} +/- {standard_deviations[4]:.2f}\", min_epoch[4]])\n",
        "table.add_row([n[2], weights[1], f\"{means[5]:.2f} +/- {standard_deviations[5]:.2f}\", min_epoch[5]])\n",
        "\n",
        "print(table)"
      ]
    },
    {
      "cell_type": "markdown",
      "source": [
        "_**Análise dos resultados:**_\n",
        "\n",
        "A partir da distribuição na tabela é possível perceber alguns padrões. Primeiramente, em determinado momento nossa implementação do perceptron consegue chegar a convergência com um número bem pequeno de épocas. No entanto, ao olharmos para a coluna com a quantidade de ajustes feitas, vemos que essas mesmas configurações possuem valores altíssimos nesse quesito. Isso significa que a média de ajustes até chegar a convergência é um valor muito alto e o desvio padrão comprova que existem pesos que treinaram fazendo poucos ajustes, porém outros em muito maiores. A taxa de aprendizado com valor 𝟎.𝟎𝟎𝟏, por exemplo, nos dois intervalos realizou uma quantidade significativa de ajustes.\n",
        "\n",
        "Podemos observar também que as configurações em que foi preciso maior quantidade de ajustes foram as que possuem o intervalo maior, para todos os valores de taxa de aprendizado, indicando que nesse caso um intervalo de pesos maior dificulta a comvergência do modelo.\n",
        "\n",
        "Logo, apesar de todas as configurações possuírem algum treino com somente uma época, levando em conta os pontos observados podemos concluir que as configurações que se saem melhor são as que possuem menor intervalo de pesos e taxa de aprendizado entre 0.1 e 0.4."
      ],
      "metadata": {
        "id": "oyR0HHYnydb8"
      }
    },
    {
      "cell_type": "markdown",
      "metadata": {
        "id": "iirIW4PGOjXc"
      },
      "source": [
        "## Parte III – Validação Holdout em Problema Não-Linearmente Separável\n",
        "\n",
        "Consideraremos o arquivo dataHoldout.txt"
      ]
    },
    {
      "cell_type": "code",
      "source": [
        "!pip install seaborn\n",
        "!pip install metrics"
      ],
      "metadata": {
        "id": "PjqOJqlAN95J"
      },
      "execution_count": null,
      "outputs": []
    },
    {
      "cell_type": "code",
      "execution_count": 18,
      "metadata": {
        "id": "ez1G2MItIXfW"
      },
      "outputs": [],
      "source": [
        "from matplotlib.colors import ListedColormap\n",
        "import matplotlib.pyplot as plt\n",
        "import numpy as np\n",
        "import pandas as pd\n",
        "from sklearn import linear_model, preprocessing, metrics\n",
        "import seaborn as sn\n",
        "\n",
        "class Perceptron2:\n",
        "\n",
        "    def __init__(self, data, instances, bias, learning_rate, weight_interval):\n",
        "        self.bias = bias\n",
        "        self.show_info = True\n",
        "        self.learning_rate = learning_rate\n",
        "        self.weight_interval = weight_interval\n",
        "        self.epochs = np.array([])\n",
        "        self.instances = instances\n",
        "        self.input = np.ndarray(shape=(self.instances, 1, 3),\n",
        "                                dtype=float, buffer=data)\n",
        "        self.input = self.add_bias(self.input, self.bias, self.instances)\n",
        "        self.best_weight = None\n",
        "\n",
        "    def init_input(self):\n",
        "       pass\n",
        "    def activation_func(self, x):\n",
        "        if (x < 0):\n",
        "            return 0\n",
        "        return 1\n",
        "\n",
        "    def apply_weights(self, current_weight, input_vector) -> float:\n",
        "        sum = 0\n",
        "        for i in range(0, len(input_vector)):\n",
        "            sum += current_weight[i] * input_vector[i]\n",
        "\n",
        "        sum = float(f\"{sum:.4f}\")\n",
        "\n",
        "        return sum\n",
        "\n",
        "    def update_weights(self, current_weight, learning_rate, error, input):\n",
        "\n",
        "        new_weight = np.sum(\n",
        "            [current_weight, (learning_rate * error * input)], axis=0)\n",
        "\n",
        "        if np.array_equal(new_weight, current_weight):\n",
        "            change = False\n",
        "        else:\n",
        "            change = True\n",
        "\n",
        "        return new_weight, change\n",
        "\n",
        "    def add_bias(self, input, bias, size):\n",
        "        array = np.array([])\n",
        "        for i in range(len(input)):\n",
        "            array = np.append(array, bias)\n",
        "            array = np.append(array, input[i])\n",
        "        array = array.reshape((size, 1, 4))\n",
        "        return array\n",
        "\n",
        "    def test(self, datatest, instances, weights):\n",
        "      # Lista com os diferentes pesos ao longo da execução\n",
        "        datatest = self.add_bias(datatest, self.bias, instances)\n",
        "        list_estimated = []\n",
        "        for i in datatest:\n",
        "            # Entradas incluindo o viés\n",
        "            input_vector = np.array([i[0][0], i[0][1], i[0][2]])\n",
        "            real = i[0][3]  # ground truth\n",
        "\n",
        "            # Aplica os pesos às entradas\n",
        "            sum = self.apply_weights(weights, input_vector)\n",
        "            estimated = self.activation_func(sum)  # valor estimado\n",
        "            list_estimated.append(estimated)\n",
        "        return list_estimated\n",
        "\n",
        "    def train_perceptron(self):\n",
        "\n",
        "        # Lista com os diferentes pesos ao longo da execução\n",
        "        weights_list = np.array([])\n",
        "        weights = np.random.uniform(self.weight_interval[0], self.weight_interval[1], 3)\n",
        "        #weights = np.random.uniform(-0.5, 0.5, 3)  # Pesos iniciais aleatórios\n",
        "        weights_list = np.append(weights_list, weights)\n",
        "        print(weights)\n",
        "\n",
        "        is_convergent = False  # Condição de para se não ouver mudança de pesos ao longo da época\n",
        "        epochs = 0\n",
        "        while not (is_convergent):\n",
        "            if(epochs == 100):\n",
        "              break\n",
        "\n",
        "            change_weight = False\n",
        "            change = False  # a princípio, não houve mudança de pesos\n",
        "\n",
        "            # Executa uma época (aplicar para todas as instâncias do conjunto de treino)\n",
        "            # incrementa o numero de épocas\n",
        "            epochs = epochs + 1\n",
        "            # Randomiza o array de treinamento\n",
        "            np.random.shuffle(self.input)\n",
        "            for i in self.input:\n",
        "                # Entradas incluindo o viés\n",
        "                input_vector = np.array([i[0][0], i[0][1], i[0][2]])\n",
        "                real = i[0][3]  # ground truth\n",
        "\n",
        "                # Aplica os pesos às entradas\n",
        "                sum = self.apply_weights(weights, input_vector)\n",
        "                estimated = self.activation_func(sum)  # valor estimado\n",
        "\n",
        "                error = real - estimated\n",
        "\n",
        "                # Função de atualização de pesos:\n",
        "                #   - Retorna os novos pesos (pode ser que não mude)\n",
        "                #   - Retorna True se houve mudança\n",
        "                weights, change_weight = self.update_weights(\n",
        "                    weights, self.learning_rate, error, input_vector)\n",
        "\n",
        "                if (change_weight):  # se houve mudança de pesos\n",
        "\n",
        "                    # Salva os novos pesos\n",
        "                    weights_list = np.append(weights_list, weights)\n",
        "                    change = True\n",
        "\n",
        "            # Se não houve mundança de pesos na época, finaliza o looping\n",
        "            if not (change):\n",
        "                is_convergent = True\n",
        "        if self.show_info:\n",
        "          print(f\"Weight adjustment: {len(weights_list) - 1}\")\n",
        "          print(f\"Total Epochs: {epochs}\")\n",
        "\n",
        "        self.epochs = np.append(self.epochs, epochs)\n",
        "        self.best_wights = weights\n",
        "        return weights\n",
        "\n",
        "    def plot_results(self):\n",
        "        # Pesos ideais encontrados após o treino\n",
        "        w0 = self.weights[0]\n",
        "        w1 = self.weights[1]\n",
        "        w2 = self.weights[2]\n",
        "        x_training1 = self.input[:, 0, 1]\n",
        "        x_training2 = self.input[:, 0, 2]\n",
        "        y_training = self.input[:, 0, 3]\n",
        "\n",
        "        # Coeficiente linear e angular da reta linearmente separável\n",
        "        linear_coefficient = w0/w2\n",
        "        angular_coefficient = w1/w2\n",
        "\n",
        "        x_line = np.linspace(-1000,1000,800)\n",
        "        y_line = linear_coefficient-angular_coefficient*x_line\n",
        "\n",
        "        color = ['red' if value == 1 else 'blue' for value in y_training]\n",
        "\n",
        "        plt.scatter(x_training1, x_training2, marker='o', color=color)\n",
        "        plt.plot(x_line, y_line, \"-\", color='black')\n",
        "        plt.xlabel('X1 input feature')\n",
        "        plt.ylabel('X2 input feature')\n",
        "        plt.title('Perceptron regression for x1, x2')\n",
        "        plt.show()"
      ]
    },
    {
      "cell_type": "code",
      "execution_count": 25,
      "metadata": {
        "id": "2iOBqaoy_V90"
      },
      "outputs": [],
      "source": [
        "import random\n",
        "\n",
        "with open('dataHoldout.txt', 'rb') as f:\n",
        "    b = f.read()\n",
        "data_holdout = np.ndarray(shape=(800,1,3),dtype=float, buffer=np.array(b))\n",
        "\n",
        "\n",
        "def train_test_split(arr, holdout_ratio=0.6):\n",
        "    random.shuffle(arr)\n",
        "    split_index = int(len(arr) * (1-holdout_ratio))\n",
        "    train_set = arr[:split_index]\n",
        "    test_set = arr[split_index:]\n",
        "    return train_set, test_set\n",
        "\n",
        "\n",
        "train_set, test_set = train_test_split(data_holdout, holdout_ratio=0.4)"
      ]
    },
    {
      "cell_type": "code",
      "execution_count": 29,
      "metadata": {
        "id": "EV_YoR8OO9DU",
        "colab": {
          "base_uri": "https://localhost:8080/"
        },
        "outputId": "d98b2237-a554-4f43-d286-3517b7cdbb2b"
      },
      "outputs": [
        {
          "output_type": "stream",
          "name": "stdout",
          "text": [
            "[ 3.27943727 -3.81696336  0.88353089]\n",
            "Weight adjustment: 3530\n",
            "Total Epochs: 100\n"
          ]
        }
      ],
      "source": [
        "indice_maximo = 800\n",
        "perceptron = Perceptron2(data=train_set, instances=int(0.6 * indice_maximo), bias=-1, learning_rate=0.1, weight_interval=[-5, 5])\n",
        "result = perceptron.train_perceptron()\n",
        "\n",
        "predicts = np.array(perceptron.test(test_set, int(0.4 * indice_maximo), result))"
      ]
    },
    {
      "cell_type": "markdown",
      "metadata": {
        "id": "2qPxSneBP2OZ"
      },
      "source": [
        "### 1. Apresente a matriz de confusão das previsões efetuadas para o conjunto de testes;"
      ]
    },
    {
      "cell_type": "code",
      "execution_count": 30,
      "metadata": {
        "id": "nm5hd2wqP1Be",
        "colab": {
          "base_uri": "https://localhost:8080/",
          "height": 325
        },
        "outputId": "a46714c4-04c7-411e-ab44-338c434c410c"
      },
      "outputs": [
        {
          "output_type": "stream",
          "name": "stdout",
          "text": [
            "[[173  36]\n",
            " [  1 110]]\n"
          ]
        },
        {
          "output_type": "execute_result",
          "data": {
            "text/plain": [
              "<matplotlib.axes._subplots.AxesSubplot at 0x7ff323a1e040>"
            ]
          },
          "metadata": {},
          "execution_count": 30
        },
        {
          "output_type": "display_data",
          "data": {
            "text/plain": [
              "<Figure size 432x288 with 2 Axes>"
            ],
            "image/png": "[encoded data removed]"
          },
          "metadata": {}
        }
      ],
      "source": [
        "y_test = test_set[:,0, 2]\n",
        "cm = metrics.confusion_matrix(y_test, predicts)\n",
        "print(cm)\n",
        "sn.set(font_scale=1.4)\n",
        "sn.heatmap(cm, annot=True, annot_kws={\"size\": 8})"
      ]
    },
    {
      "cell_type": "markdown",
      "metadata": {
        "id": "NPJRBUHlP8lr"
      },
      "source": [
        "### 2. Qual a acurácia da solução proposta para os dados do conjunto de treinamento inicialmente fornecido?"
      ]
    },
    {
      "cell_type": "code",
      "execution_count": 31,
      "metadata": {
        "id": "UAU8MfYjQCYs",
        "colab": {
          "base_uri": "https://localhost:8080/"
        },
        "outputId": "d214eb3b-da41-4598-b161-e8e4e85498e4"
      },
      "outputs": [
        {
          "output_type": "stream",
          "name": "stdout",
          "text": [
            "Acurácia: 0.884375\n"
          ]
        }
      ],
      "source": [
        "# Acurácia\n",
        "print(f'Acurácia: {metrics.accuracy_score(y_test, predicts)}')"
      ]
    },
    {
      "cell_type": "markdown",
      "metadata": {
        "id": "dSGLoBe0QFge"
      },
      "source": [
        "### 3. Nos mesmos termos da questão anterior, obtenha os valores de precisão, revocação e F-Score.\n",
        "Para estes cálculos, está liberada a utilização de sklearn.metrics;"
      ]
    },
    {
      "cell_type": "code",
      "execution_count": 32,
      "metadata": {
        "id": "Mbb20HtNQKx6",
        "colab": {
          "base_uri": "https://localhost:8080/"
        },
        "outputId": "f5df96fc-d77e-4ba9-ddfa-041e633db6c9"
      },
      "outputs": [
        {
          "output_type": "stream",
          "name": "stdout",
          "text": [
            "Precisão: 0.8738387655487325\n",
            "Revocação: 0.9093710935816199\n",
            "F_1 score: 0.8797126921396714\n"
          ]
        }
      ],
      "source": [
        "# Precisão\n",
        "print(\n",
        "    f\"Precisão: {metrics.precision_score(y_test, predicts, average='macro')}\")\n",
        "\n",
        "#Revocação\n",
        "print(\n",
        "    f\"Revocação: {metrics.recall_score(y_test, predicts, average='macro')}\")\n",
        "    \n",
        "#F1\n",
        "print(f\"F_1 score: {metrics.f1_score(y_test, predicts, average='macro')}\")"
      ]
    },
    {
      "cell_type": "markdown",
      "metadata": {
        "id": "toRefuPyRywe"
      },
      "source": [
        "### 4. A partir destas métricas, discorra acerca da qualidade desta solução perante o conjunto de testes."
      ]
    },
    {
      "cell_type": "markdown",
      "metadata": {
        "id": "iRwcguBjS5kp"
      },
      "source": [
        "Com base nas métricas de Acurácia, Precisão, Revocação e F_1 score, nota-se claramente que o modelo, apesar de ter atingido uma nota relativamente boa em todas as métricas, possui limitações claras. Isso se deve ao fato de o problema não ser lineramente separável, ou seja, o modelo Perceptron de Rosenblatt implementado não é capaz de descrever uma solução que abranja todas as eventuais instâncias.\n",
        "Durante a própria elaboração do Perceptron, foi necessário estabelecer uma quantidade limite de épocas que ele iria possuir em sua execução. Logo, não ia possuir condições de atingir a solução plena do problema. "
      ]
    }
  ],
  "metadata": {
    "colab": {
      "provenance": []
    },
    "kernelspec": {
      "display_name": "Python 3",
      "name": "python3"
    },
    "language_info": {
      "name": "python"
    }
  },
  "nbformat": 4,
  "nbformat_minor": 0
}